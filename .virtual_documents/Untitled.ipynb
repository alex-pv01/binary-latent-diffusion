import torch



tensor = torch.sigmoid(torch.rand(15,15))


from datasets import load_dataset, Image


dataset = load_dataset("beans", split="train")


type(dataset[0]['image'])


from torchvision import transforms


images = dataset[:100]['image']

trans = transforms.ToTensor()

tensor_list = []

for image in images:
    tensor_image = trans(image).unsqueeze(0)
    tensor_list.append(tensor_image)

tensor = torch.cat(tensor_list, dim=0)

print(tensor.shape)


import numpy as np


images = np.array(load_dataset("beans", split="train")['image'])
images.shape


from models import modules


import bvae


encoder = modules.Encoder(ch = 128, 
                         out_ch = 3, 
                         num_res_blocks = 2,
                         attn_resolutions = [64,16], 
                         ch_mult = (1,1,2,2,4),
                         in_channels = 3,
                         resolution = 128, 
                         z_channels = 256,
                         double_z = False)


images = dataset[:100]['image']

batch = images[:3]

trans = transforms.ToTensor()

tensor_list = []

for image in batch:
    img = image.copy()
    img = img.resize((128, 128))
    tensor_image = trans(img).unsqueeze(0)
    tensor_list.append(tensor_image)

tensor = torch.cat(tensor_list, dim=0)


print(tensor.shape)


h = encoder.forward(tensor)

print(h.shape)


decoder = modules.Decoder(ch = 128, 
                         out_ch = 3, 
                         num_res_blocks = 2,
                         attn_resolutions = [16], 
                         ch_mult = (1,1,2,2,4),
                         in_channels = 3,
                         resolution = 128, 
                         z_channels = 256)


x = decoder.forward(h)

print(x.shape)


sigma_h = torch.sigmoid(h)
print(sigma_h.shape)
print(sigma_h[0,0])


binary = torch.bernoulli(sigma_h)
print(binary.shape)
print(binary[0,0])


aux_binary = binary.detach() + sigma_h - sigma_h.detach()
print(aux_binary.shape)
print(aux_binary[0,0])


x = decoder.forward(aux_binary)
https://portal-wifi.ub.edu/upload/custom/PortalUB/welcome.html
print(x.shape)


quantizer = modules.BinaryQuantizer()


binary = quantizer.forward(h)


# Check if a GPU is available
if torch.cuda.is_available():
    # Set the device to the first available GPU
    device = torch.device("cuda")
    print("GPU is available.")
else:
    # If no GPU is available, use the CPU
    device = torch.device("cpu")
    print("GPU is not available, using CPU.")


model = bvae.BVAEModel(device)


import bvae
bvae.main()






